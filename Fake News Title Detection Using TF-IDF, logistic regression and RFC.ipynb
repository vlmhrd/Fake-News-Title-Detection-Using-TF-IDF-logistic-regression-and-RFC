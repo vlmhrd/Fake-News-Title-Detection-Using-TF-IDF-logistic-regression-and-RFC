{
 "cells": [
  {
   "cell_type": "code",
   "execution_count": 2,
   "id": "22a5fe1f-5ddd-4fbf-88ac-9243c306f450",
   "metadata": {},
   "outputs": [],
   "source": [
    "# loading and preprocessing data\n",
    "import pandas as pd\n",
    "import numpy as np \n",
    "true = pd.read_csv('True.csv')\n",
    "false = pd.read_csv('Fake.csv')\n"
   ]
  },
  {
   "cell_type": "code",
   "execution_count": 3,
   "id": "7e947a20-6955-4fed-899f-aa343da74ea3",
   "metadata": {},
   "outputs": [
    {
     "data": {
      "text/plain": [
       "Index(['title', 'subject', 'value'], dtype='object')"
      ]
     },
     "execution_count": 3,
     "metadata": {},
     "output_type": "execute_result"
    }
   ],
   "source": [
    "true['subject'].value_counts(normalize = True)\n",
    "true['value'] = 1\n",
    "true = true.drop(columns = ['text', 'date'])\n",
    "true.columns"
   ]
  },
  {
   "cell_type": "code",
   "execution_count": 6,
   "id": "438c8c98-8079-4176-ad76-5cc4f87de65e",
   "metadata": {},
   "outputs": [
    {
     "data": {
      "text/plain": [
       "Index(['title', 'subject', 'value'], dtype='object')"
      ]
     },
     "execution_count": 6,
     "metadata": {},
     "output_type": "execute_result"
    }
   ],
   "source": [
    "false = false.drop(columns = ['text', 'date'])\n",
    "false['value'] = 0\n",
    "false.columns"
   ]
  },
  {
   "cell_type": "code",
   "execution_count": 8,
   "id": "d0367f39-4624-4203-8a41-a3314f3447aa",
   "metadata": {},
   "outputs": [
    {
     "data": {
      "text/plain": [
       "value\n",
       "0    0.522985\n",
       "1    0.477015\n",
       "Name: proportion, dtype: float64"
      ]
     },
     "execution_count": 8,
     "metadata": {},
     "output_type": "execute_result"
    }
   ],
   "source": [
    "# final dataset True / Fake news distribution \n",
    "df = pd.merge(true, false, how = 'outer')\n",
    "df.value.value_counts(normalize = True)"
   ]
  },
  {
   "cell_type": "code",
   "execution_count": 10,
   "id": "d7f09fde-e22a-45bd-966e-78dbfbb9ea61",
   "metadata": {},
   "outputs": [],
   "source": [
    "# working with nltk to define stop words, working with re to clean the text \n",
    "import re\n",
    "import nltk \n",
    "from nltk.corpus import stopwords\n",
    "\n",
    "stop_words = set(stopwords.words(\"english\"))\n",
    "def clean(text): \n",
    "    text = re.sub(r'\\W', ' ', text)\n",
    "    text = re.sub(r'\\s+', ' ', text)\n",
    "    text = text.lower()\n",
    "    text = ' '.join([word for word in text.split() if word not in stop_words]) \n",
    "    return text"
   ]
  },
  {
   "cell_type": "code",
   "execution_count": 12,
   "id": "ed67d16c-548d-406c-9f14-50201fc9d975",
   "metadata": {},
   "outputs": [],
   "source": [
    "df['title'] = df['title'].apply(clean)\n",
    "corpus = df['title'] "
   ]
  },
  {
   "cell_type": "code",
   "execution_count": 14,
   "id": "d8588ad8-87d5-4fb9-bde6-39ee930e917c",
   "metadata": {},
   "outputs": [
    {
     "data": {
      "text/html": [
       "<div>\n",
       "<style scoped>\n",
       "    .dataframe tbody tr th:only-of-type {\n",
       "        vertical-align: middle;\n",
       "    }\n",
       "\n",
       "    .dataframe tbody tr th {\n",
       "        vertical-align: top;\n",
       "    }\n",
       "\n",
       "    .dataframe thead th {\n",
       "        text-align: right;\n",
       "    }\n",
       "</style>\n",
       "<table border=\"1\" class=\"dataframe\">\n",
       "  <thead>\n",
       "    <tr style=\"text-align: right;\">\n",
       "      <th></th>\n",
       "      <th>title</th>\n",
       "      <th>subject</th>\n",
       "      <th>value</th>\n",
       "    </tr>\n",
       "  </thead>\n",
       "  <tbody>\n",
       "    <tr>\n",
       "      <th>0</th>\n",
       "      <td>donald trump gets handed 10 year old girl video</td>\n",
       "      <td>News</td>\n",
       "      <td>0</td>\n",
       "    </tr>\n",
       "    <tr>\n",
       "      <th>1</th>\n",
       "      <td>ex gop congressman shreds fellow republicans h...</td>\n",
       "      <td>News</td>\n",
       "      <td>0</td>\n",
       "    </tr>\n",
       "    <tr>\n",
       "      <th>2</th>\n",
       "      <td>trump gets stomped whining president obama usi...</td>\n",
       "      <td>News</td>\n",
       "      <td>0</td>\n",
       "    </tr>\n",
       "    <tr>\n",
       "      <th>3</th>\n",
       "      <td>watch democratic rep delivers scathing rebuke ...</td>\n",
       "      <td>News</td>\n",
       "      <td>0</td>\n",
       "    </tr>\n",
       "    <tr>\n",
       "      <th>4</th>\n",
       "      <td>aftertrumpimplodes hashtag hilariously imagine...</td>\n",
       "      <td>News</td>\n",
       "      <td>0</td>\n",
       "    </tr>\n",
       "    <tr>\n",
       "      <th>5</th>\n",
       "      <td>blacklivesmatter leader run mayor racially tro...</td>\n",
       "      <td>News</td>\n",
       "      <td>0</td>\n",
       "    </tr>\n",
       "    <tr>\n",
       "      <th>6</th>\n",
       "      <td>bringbackobama hashtag blows twitter americans...</td>\n",
       "      <td>News</td>\n",
       "      <td>0</td>\n",
       "    </tr>\n",
       "    <tr>\n",
       "      <th>7</th>\n",
       "      <td>freechrischristie twitter reacts hostage situa...</td>\n",
       "      <td>News</td>\n",
       "      <td>0</td>\n",
       "    </tr>\n",
       "    <tr>\n",
       "      <th>8</th>\n",
       "      <td>makeamericabrannigan futurama voice actor read...</td>\n",
       "      <td>News</td>\n",
       "      <td>0</td>\n",
       "    </tr>\n",
       "    <tr>\n",
       "      <th>9</th>\n",
       "      <td>nevertrump conservative perfect description pu...</td>\n",
       "      <td>News</td>\n",
       "      <td>0</td>\n",
       "    </tr>\n",
       "    <tr>\n",
       "      <th>10</th>\n",
       "      <td>nevertrump gop delegates party brass intimidat...</td>\n",
       "      <td>News</td>\n",
       "      <td>0</td>\n",
       "    </tr>\n",
       "    <tr>\n",
       "      <th>11</th>\n",
       "      <td>nevertrump gop intelligence expert launching i...</td>\n",
       "      <td>News</td>\n",
       "      <td>0</td>\n",
       "    </tr>\n",
       "    <tr>\n",
       "      <th>12</th>\n",
       "      <td>nevertrump gop rep one character trait trump w...</td>\n",
       "      <td>News</td>\n",
       "      <td>0</td>\n",
       "    </tr>\n",
       "    <tr>\n",
       "      <th>13</th>\n",
       "      <td>nevertrump gopers demand emergency rnc meeting...</td>\n",
       "      <td>News</td>\n",
       "      <td>0</td>\n",
       "    </tr>\n",
       "    <tr>\n",
       "      <th>14</th>\n",
       "      <td>presidentobamanotbarry protests blatant racism...</td>\n",
       "      <td>News</td>\n",
       "      <td>0</td>\n",
       "    </tr>\n",
       "    <tr>\n",
       "      <th>15</th>\n",
       "      <td>resistance organizers amazing new anti trump c...</td>\n",
       "      <td>News</td>\n",
       "      <td>0</td>\n",
       "    </tr>\n",
       "    <tr>\n",
       "      <th>16</th>\n",
       "      <td>theresistance working homeland security spits ...</td>\n",
       "      <td>News</td>\n",
       "      <td>0</td>\n",
       "    </tr>\n",
       "    <tr>\n",
       "      <th>17</th>\n",
       "      <td>trumpchicken trending tweets hilarious images</td>\n",
       "      <td>News</td>\n",
       "      <td>0</td>\n",
       "    </tr>\n",
       "    <tr>\n",
       "      <th>18</th>\n",
       "      <td>trumpsacrifices twitter destroys trump cowardl...</td>\n",
       "      <td>News</td>\n",
       "      <td>0</td>\n",
       "    </tr>\n",
       "    <tr>\n",
       "      <th>19</th>\n",
       "      <td>trumpertantrum twitter brilliant response trum...</td>\n",
       "      <td>News</td>\n",
       "      <td>0</td>\n",
       "    </tr>\n",
       "  </tbody>\n",
       "</table>\n",
       "</div>"
      ],
      "text/plain": [
       "                                                title subject  value\n",
       "0     donald trump gets handed 10 year old girl video    News      0\n",
       "1   ex gop congressman shreds fellow republicans h...    News      0\n",
       "2   trump gets stomped whining president obama usi...    News      0\n",
       "3   watch democratic rep delivers scathing rebuke ...    News      0\n",
       "4   aftertrumpimplodes hashtag hilariously imagine...    News      0\n",
       "5   blacklivesmatter leader run mayor racially tro...    News      0\n",
       "6   bringbackobama hashtag blows twitter americans...    News      0\n",
       "7   freechrischristie twitter reacts hostage situa...    News      0\n",
       "8   makeamericabrannigan futurama voice actor read...    News      0\n",
       "9   nevertrump conservative perfect description pu...    News      0\n",
       "10  nevertrump gop delegates party brass intimidat...    News      0\n",
       "11  nevertrump gop intelligence expert launching i...    News      0\n",
       "12  nevertrump gop rep one character trait trump w...    News      0\n",
       "13  nevertrump gopers demand emergency rnc meeting...    News      0\n",
       "14  presidentobamanotbarry protests blatant racism...    News      0\n",
       "15  resistance organizers amazing new anti trump c...    News      0\n",
       "16  theresistance working homeland security spits ...    News      0\n",
       "17      trumpchicken trending tweets hilarious images    News      0\n",
       "18  trumpsacrifices twitter destroys trump cowardl...    News      0\n",
       "19  trumpertantrum twitter brilliant response trum...    News      0"
      ]
     },
     "execution_count": 14,
     "metadata": {},
     "output_type": "execute_result"
    }
   ],
   "source": [
    "df.head(20)"
   ]
  },
  {
   "cell_type": "code",
   "execution_count": 16,
   "id": "935c5616-11b8-45ce-b2c6-63bc4e0bbccb",
   "metadata": {},
   "outputs": [],
   "source": [
    "# embedding and splitting the data \n",
    "from sklearn.model_selection import train_test_split\n",
    "from sklearn.feature_extraction.text import TfidfVectorizer\n",
    "\n",
    "tfvector = TfidfVectorizer()\n",
    "x = tfvector.fit_transform(corpus)\n",
    "y = df.value\n",
    "x_train, x_test, y_train, y_test = train_test_split(x,y, test_size = 0.2)"
   ]
  },
  {
   "cell_type": "code",
   "execution_count": 18,
   "id": "a2ddc538-5cc0-48c7-992b-0f32957682af",
   "metadata": {},
   "outputs": [],
   "source": [
    "from sklearn.linear_model import LogisticRegression\n",
    "from sklearn.ensemble import RandomForestClassifier\n",
    "from sklearn.metrics import accuracy_score, precision_score, recall_score, f1_score"
   ]
  },
  {
   "cell_type": "code",
   "execution_count": 20,
   "id": "120bc470-43d1-4b7e-b58f-576685706f0b",
   "metadata": {},
   "outputs": [],
   "source": [
    "# training logistic regression model \n",
    "lr_model = LogisticRegression()\n",
    "lr_model.fit(x_train, y_train)\n",
    "y_pred_lr = lr_model.predict(x_test)"
   ]
  },
  {
   "cell_type": "code",
   "execution_count": 22,
   "id": "e82ce5d1-c363-43c5-8812-c4c281881877",
   "metadata": {},
   "outputs": [],
   "source": [
    "# training random forest classifier (best parameters taken from grid search)\n",
    "rf = RandomForestClassifier(max_depth = 15, n_estimators = 100, random_state = 42)\n",
    "rf.fit(x_train, y_train)\n",
    "y_pred_rf = rf.predict(x_test)"
   ]
  },
  {
   "cell_type": "code",
   "execution_count": 24,
   "id": "956970da-0f9b-4bf9-95f2-d2d2a9aec501",
   "metadata": {},
   "outputs": [
    {
     "name": "stdout",
     "output_type": "stream",
     "text": [
      "Logistic Regression Model Performance:\n",
      "Accuracy: 0.9444320712694878\n",
      "Precision: 0.9355570683004312\n",
      "Recall: 0.950437989857077\n",
      "F1 score: 0.9429388221841052\n",
      "Random Forest Classifier Model Performance:\n",
      "Accuracy: 0.8288418708240535\n",
      "Precision: 0.9504663879060792\n",
      "Recall: 0.6811894882434302\n",
      "F1 score: 0.7936081643614878\n"
     ]
    }
   ],
   "source": [
    "# evaluating the model on the test dataset \n",
    "def evaluation(model, y_test, y_pred):\n",
    "    print(f'{model} Model Performance:')\n",
    "    print('Accuracy:', accuracy_score(y_test, y_pred))\n",
    "    print('Precision:', precision_score(y_test, y_pred))\n",
    "    print('Recall:', recall_score(y_test, y_pred))\n",
    "    print('F1 score:', f1_score(y_test, y_pred))\n",
    "\n",
    "evaluation('Logistic Regression', y_test, y_pred_lr)\n",
    "evaluation('Random Forest Classifier', y_test, y_pred_rf)\n",
    "    "
   ]
  },
  {
   "cell_type": "code",
   "execution_count": 26,
   "id": "06493cba-82a2-4ba3-9c76-275e6536886d",
   "metadata": {},
   "outputs": [
    {
     "name": "stdout",
     "output_type": "stream",
     "text": [
      "Best Parameters: {'max_depth': 15, 'n_estimators': 100}\n"
     ]
    }
   ],
   "source": [
    "# while logistic regression did very nicely with scores, random forest model doesn't show the best performance \n",
    "# finetuning it with grid search to find best params\n",
    "from sklearn.model_selection import GridSearchCV\n",
    "param_grid = {\n",
    "\"n_estimators\": [50, 100, 200],\n",
    "\"max_depth\": [5, 10, 15],\n",
    "}\n",
    "\n",
    "grid_search = GridSearchCV(RandomForestClassifier(random_state=42), param_grid, cv=3, scoring=\"accuracy\")\n",
    "grid_search.fit(x_train, y_train)\n",
    "\n",
    "best_model = grid_search.best_estimator_\n",
    "print(\"Best Parameters:\", grid_search.best_params_)"
   ]
  },
  {
   "cell_type": "code",
   "execution_count": null,
   "id": "014e020a-25d5-4503-b99f-5905e799a659",
   "metadata": {},
   "outputs": [],
   "source": []
  }
 ],
 "metadata": {
  "kernelspec": {
   "display_name": "Python [conda env:base] *",
   "language": "python",
   "name": "conda-base-py"
  },
  "language_info": {
   "codemirror_mode": {
    "name": "ipython",
    "version": 3
   },
   "file_extension": ".py",
   "mimetype": "text/x-python",
   "name": "python",
   "nbconvert_exporter": "python",
   "pygments_lexer": "ipython3",
   "version": "3.12.7"
  }
 },
 "nbformat": 4,
 "nbformat_minor": 5
}
